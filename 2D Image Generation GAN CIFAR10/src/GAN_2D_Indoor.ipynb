{
 "cells": [
  {
   "cell_type": "code",
   "execution_count": 1,
   "metadata": {},
   "outputs": [
    {
     "name": "stderr",
     "output_type": "stream",
     "text": [
      "c:\\Users\\olive\\AppData\\Local\\Programs\\Python\\Python310\\lib\\site-packages\\tqdm\\auto.py:22: TqdmWarning: IProgress not found. Please update jupyter and ipywidgets. See https://ipywidgets.readthedocs.io/en/stable/user_install.html\n",
      "  from .autonotebook import tqdm as notebook_tqdm\n"
     ]
    }
   ],
   "source": [
    "import tensorflow as tf\n",
    "import tensorflow_datasets as tfds\n",
    "import keras\n",
    "import numpy as np\n",
    "import matplotlib.pyplot as plt\n",
    "import cv2\n",
    "import os\n",
    "\n",
    "from keras import layers, losses, utils, optimizers\n",
    "from keras.datasets import cifar10"
   ]
  },
  {
   "attachments": {},
   "cell_type": "markdown",
   "metadata": {},
   "source": [
    "### Load the CIFAR10 dataset"
   ]
  },
  {
   "cell_type": "code",
   "execution_count": 2,
   "metadata": {},
   "outputs": [],
   "source": [
    "(train_images, train_labels), (test_images, test_labels) = cifar10.load_data()"
   ]
  },
  {
   "attachments": {},
   "cell_type": "markdown",
   "metadata": {},
   "source": [
    "#### Show some samples"
   ]
  },
  {
   "cell_type": "code",
   "execution_count": 21,
   "metadata": {},
   "outputs": [
    {
     "data": {
      "text/plain": [
       "<matplotlib.image.AxesImage at 0x22c494ddc60>"
      ]
     },
     "execution_count": 21,
     "metadata": {},
     "output_type": "execute_result"
    },
    {
     "data": {
      "image/png": "[encoded data removed]",
      "text/plain": [
       "<Figure size 640x480 with 1 Axes>"
      ]
     },
     "metadata": {},
     "output_type": "display_data"
    }
   ],
   "source": [
    "plt.imshow(train_images[np.random.randint(0, 50)])"
   ]
  },
  {
   "attachments": {},
   "cell_type": "markdown",
   "metadata": {},
   "source": [
    "### Generator"
   ]
  },
  {
   "cell_type": "code",
   "execution_count": 22,
   "metadata": {},
   "outputs": [],
   "source": [
    "def Generator():\n",
    "    generator = keras.Sequential()\n",
    "\n",
    "    # input dense layer\n",
    "    generator.add(layers.Dense(8 * 8 * 128, use_bias=False, input_shape=(100,)))\n",
    "    generator.add(layers.LeakyReLU(alpha=0.2))\n",
    "    generator.add(layers.Reshape((8, 8, 128)))\n",
    "\n",
    "    # upsampling 1\n",
    "    generator.add(layers.Conv2DTranspose(128, (4, 4), strides=(2, 2), padding=\"same\"))\n",
    "    generator.add(layers.LeakyReLU(alpha=0.2))\n",
    "\n",
    "    # upsampling 2\n",
    "    generator.add(layers.Conv2DTranspose(128, (4, 4), strides=(2, 2), padding=\"same\"))\n",
    "    generator.add(layers.LeakyReLU(alpha=0.2))\n",
    "\n",
    "    # generator image output\n",
    "    generator.add(layers.Conv2D(3, (8, 8), padding=\"same\", activation=\"tanh\"))\n",
    "\n",
    "    return generator\n",
    "\n"
   ]
  },
  {
   "attachments": {},
   "cell_type": "markdown",
   "metadata": {},
   "source": [
    "#### Generator random output with no training"
   ]
  },
  {
   "cell_type": "code",
   "execution_count": 23,
   "metadata": {},
   "outputs": [
    {
     "data": {
      "text/plain": [
       "<matplotlib.image.AxesImage at 0x22c4a837af0>"
      ]
     },
     "execution_count": 23,
     "metadata": {},
     "output_type": "execute_result"
    },
    {
     "data": {
      "image/png": "[encoded data removed]",
      "text/plain": [
       "<Figure size 640x480 with 1 Axes>"
      ]
     },
     "metadata": {},
     "output_type": "display_data"
    }
   ],
   "source": [
    "generator = Generator()\n",
    "\n",
    "noise = tf.random.normal([1, 100])\n",
    "generated_random_image = generator(noise, training=False)\n",
    "\n",
    "plt.imshow(generated_random_image[0, :, :, 0])"
   ]
  },
  {
   "attachments": {},
   "cell_type": "markdown",
   "metadata": {},
   "source": [
    "### Discriminator"
   ]
  },
  {
   "cell_type": "code",
   "execution_count": 24,
   "metadata": {},
   "outputs": [],
   "source": [
    "def Discriminator():\n",
    "    discriminator = keras.Sequential()\n",
    "\n",
    "    discriminator.add(layers.Conv2D(128, (3, 3), strides=(2, 2), padding=\"same\", input_shape=[32, 32, 3]))\n",
    "    discriminator.add(layers.LeakyReLU(alpha=0.2))\n",
    "    discriminator.add(layers.Dropout(0.3))\n",
    "\n",
    "    discriminator.add(layers.Conv2D(128, (3, 3), strides=(2, 2), padding=\"same\"))\n",
    "    discriminator.add(layers.LeakyReLU(alpha=0.2))\n",
    "    discriminator.add(layers.Dropout(0.3))\n",
    "\n",
    "    discriminator.add(layers.Flatten())\n",
    "    discriminator.add(layers.Dense(1, activation=\"sigmoid\"))\n",
    "\n",
    "    discriminator.compile(optimizer=optimizers.Adam(learning_rate=0.0002, beta_1=0.5), loss=\"binary_crossentropy\")\n",
    "\n",
    "    return discriminator\n",
    "\n"
   ]
  },
  {
   "attachments": {},
   "cell_type": "markdown",
   "metadata": {},
   "source": [
    "### Connect Generator and Discriminator to GAN"
   ]
  },
  {
   "cell_type": "code",
   "execution_count": 25,
   "metadata": {},
   "outputs": [],
   "source": [
    "def CifarGAN(generator, discriminator):\n",
    "    discriminator.trainable = False\n",
    "\n",
    "    gan = keras.Sequential()\n",
    "    gan.add(generator)\n",
    "    gan.add(discriminator)\n",
    "\n",
    "    gan.compile(loss=\"binary_crossentropy\", optimizer=optimizers.Adam(learning_rate=0.0002, beta_1=0.5))\n",
    "\n",
    "    return gan\n",
    "\n"
   ]
  },
  {
   "attachments": {},
   "cell_type": "markdown",
   "metadata": {},
   "source": [
    "### Load and preprocess training Data"
   ]
  },
  {
   "cell_type": "code",
   "execution_count": 26,
   "metadata": {},
   "outputs": [],
   "source": [
    "def LoadandPreprocess(train_images):\n",
    "    train_images = train_images.astype(\"float32\")\n",
    "    return (train_images - 127.5) / 127.5\n",
    "\n"
   ]
  },
  {
   "attachments": {},
   "cell_type": "markdown",
   "metadata": {},
   "source": [
    "### Training"
   ]
  },
  {
   "attachments": {},
   "cell_type": "markdown",
   "metadata": {},
   "source": [
    "#### Hyperparams"
   ]
  },
  {
   "cell_type": "code",
   "execution_count": 27,
   "metadata": {},
   "outputs": [],
   "source": [
    "TRAIN_EPOCHS = 2\n",
    "BATCH_SIZE = 128"
   ]
  },
  {
   "attachments": {},
   "cell_type": "markdown",
   "metadata": {},
   "source": [
    "#### Generating real and fake samples "
   ]
  },
  {
   "cell_type": "code",
   "execution_count": 28,
   "metadata": {},
   "outputs": [],
   "source": [
    "def GenerateLatentPoints(latent_dim, n_samples):\n",
    "    input_data = np.random.randn(latent_dim * n_samples)\n",
    "    input_data = input_data.reshape(n_samples, latent_dim)\n",
    "    return input_data\n",
    "\n",
    "def GenerateRealSamples(dataset, n_samples):\n",
    "    index = np.random.randint(0, dataset.shape[0], n_samples)\n",
    "    X = dataset[index]\n",
    "    y = np.ones((n_samples, 1))\n",
    "    return X, y\n",
    "\n",
    "def GenerateFakeSamples(generator, latent_dim, n_samples):\n",
    "    input_data = GenerateLatentPoints(latent_dim, n_samples)\n",
    "    X = generator.predict(input_data)\n",
    "    y = np.zeros((n_samples, 1))\n",
    "    return X, y\n",
    "\n"
   ]
  },
  {
   "attachments": {},
   "cell_type": "markdown",
   "metadata": {},
   "source": [
    "#### Train steps"
   ]
  },
  {
   "cell_type": "code",
   "execution_count": 36,
   "metadata": {},
   "outputs": [],
   "source": [
    "def Train(generator, discriminator, gan, dataset, latent_dim, train_epochs=TRAIN_EPOCHS):\n",
    "    # define batching sizes\n",
    "    batch_per_epoch = int(dataset.shape[0] / BATCH_SIZE)\n",
    "    half_batch = int(BATCH_SIZE / 2)\n",
    "\n",
    "    for i in range(train_epochs):\n",
    "        for j in range(batch_per_epoch):\n",
    "            # get loss from real images\n",
    "            print(GenerateRealSamples(dataset, half_batch))\n",
    "            X_real, y_real = GenerateRealSamples(dataset, half_batch)\n",
    "            disc_loss_real = discriminator.train_on_batch(X_real, y_real)\n",
    "\n",
    "            # get loss from generated fake images\n",
    "            X_fake, y_fake = GenerateFakeSamples(generator, latent_dim, n_samples=half_batch)\n",
    "            disc_loss_fake = discriminator.train_on_batch(X_fake, y_fake)\n",
    "\n",
    "            # construct full loss\n",
    "            X_gan = GenerateLatentPoints(latent_dim=latent_dim, n_samples=BATCH_SIZE)\n",
    "            y_gan = np.ones((BATCH_SIZE, 1))\n",
    "            gan_loss = gan.train_on_batch(X_gan, y_gan)\n",
    "            \n",
    "    # Save GAN model\n",
    "    gan.save(\"cifar_gan_v1.h5\")\n",
    "\n"
   ]
  },
  {
   "attachments": {},
   "cell_type": "markdown",
   "metadata": {},
   "source": [
    "#### Training the GAN"
   ]
  },
  {
   "cell_type": "code",
   "execution_count": null,
   "metadata": {},
   "outputs": [],
   "source": [
    "LATENT_DIM = 100\n",
    "\n",
    "# load & process training dataset\n",
    "dataset = LoadandPreprocess(train_images=train_images)\n",
    "\n",
    "# get disc and generator models\n",
    "discriminator = Discriminator()\n",
    "generator = Generator()\n",
    "\n",
    "# assemble the GAN\n",
    "cifar_gan = CifarGAN(generator=generator, discriminator=discriminator)\n",
    "\n",
    "# train steps for GAN, Generator & Discriminator\n",
    "Train(\n",
    "    generator=generator, \n",
    "    discriminator=discriminator, \n",
    "    gan=cifar_gan, dataset=dataset, \n",
    "    latent_dim=LATENT_DIM, \n",
    "    train_epochs=TRAIN_EPOCHS\n",
    ")"
   ]
  }
 ],
 "metadata": {
  "kernelspec": {
   "display_name": "Python 3",
   "language": "python",
   "name": "python3"
  },
  "language_info": {
   "codemirror_mode": {
    "name": "ipython",
    "version": 3
   },
   "file_extension": ".py",
   "mimetype": "text/x-python",
   "name": "python",
   "nbconvert_exporter": "python",
   "pygments_lexer": "ipython3",
   "version": "3.10.0"
  },
  "orig_nbformat": 4,
  "vscode": {
   "interpreter": {
    "hash": "cfcf893b30c834e77459660183659b067f3f21fdf2a85919e4ac9ef96b7b2952"
   }
  }
 },
 "nbformat": 4,
 "nbformat_minor": 2
}
