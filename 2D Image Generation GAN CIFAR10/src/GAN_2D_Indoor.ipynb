{
 "cells": [
  {
   "cell_type": "code",
   "execution_count": 64,
   "metadata": {},
   "outputs": [],
   "source": [
    "import tensorflow as tf\n",
    "import tensorflow_datasets as tfds\n",
    "import keras\n",
    "import numpy as np\n",
    "import matplotlib.pyplot as plt\n",
    "import cv2\n",
    "import os\n",
    "\n",
    "from keras import layers, losses, utils, optimizers\n",
    "from keras.datasets import cifar10"
   ]
  },
  {
   "attachments": {},
   "cell_type": "markdown",
   "metadata": {},
   "source": [
    "### Load the CIFAR10 dataset"
   ]
  },
  {
   "cell_type": "code",
   "execution_count": 2,
   "metadata": {},
   "outputs": [],
   "source": [
    "(train_images, train_labels), (test_images, test_labels) = cifar10.load_data()"
   ]
  },
  {
   "attachments": {},
   "cell_type": "markdown",
   "metadata": {},
   "source": [
    "#### Show some samples"
   ]
  },
  {
   "cell_type": "code",
   "execution_count": 47,
   "metadata": {},
   "outputs": [
    {
     "data": {
      "text/plain": [
       "<matplotlib.image.AxesImage at 0x22722a7d810>"
      ]
     },
     "execution_count": 47,
     "metadata": {},
     "output_type": "execute_result"
    },
    {
     "data": {
      "image/png": "[encoded data removed]",
      "text/plain": [
       "<Figure size 640x480 with 1 Axes>"
      ]
     },
     "metadata": {},
     "output_type": "display_data"
    }
   ],
   "source": [
    "plt.imshow(train_images[np.random.randint(0, 50)])"
   ]
  },
  {
   "attachments": {},
   "cell_type": "markdown",
   "metadata": {},
   "source": [
    "### Generator"
   ]
  },
  {
   "cell_type": "code",
   "execution_count": 61,
   "metadata": {},
   "outputs": [],
   "source": [
    "def Generator():\n",
    "    generator = keras.Sequential()\n",
    "\n",
    "    # input dense layer\n",
    "    generator.add(layers.Dense(8 * 8 * 128, use_bias=False, input_shape=(100,)))\n",
    "    generator.add(layers.LeakyReLU(alpha=0.2))\n",
    "    generator.add(layers.Reshape((8, 8, 128)))\n",
    "\n",
    "    # upsampling 1\n",
    "    generator.add(layers.Conv2DTranspose(128, (4, 4), strides=(2, 2), padding=\"same\"))\n",
    "    generator.add(layers.LeakyReLU(alpha=0.2))\n",
    "\n",
    "    # upsampling 2\n",
    "    generator.add(layers.Conv2DTranspose(128, (4, 4), strides=(2, 2), padding=\"same\"))\n",
    "    generator.add(layers.LeakyReLU(alpha=0.2))\n",
    "\n",
    "    # generator image output\n",
    "    generator.add(layers.Conv2D(3, (8, 8), padding=\"same\", activation=\"tanh\"))\n",
    "\n",
    "    return generator\n",
    "\n"
   ]
  },
  {
   "attachments": {},
   "cell_type": "markdown",
   "metadata": {},
   "source": [
    "#### Generator random output with no training"
   ]
  },
  {
   "cell_type": "code",
   "execution_count": 63,
   "metadata": {},
   "outputs": [
    {
     "data": {
      "text/plain": [
       "<matplotlib.image.AxesImage at 0x22728ae7820>"
      ]
     },
     "execution_count": 63,
     "metadata": {},
     "output_type": "execute_result"
    },
    {
     "data": {
      "image/png": "[encoded data removed]",
      "text/plain": [
       "<Figure size 640x480 with 1 Axes>"
      ]
     },
     "metadata": {},
     "output_type": "display_data"
    }
   ],
   "source": [
    "generator = Generator()\n",
    "\n",
    "noise = tf.random.normal([1, 100])\n",
    "generated_random_image = generator(noise, training=False)\n",
    "\n",
    "plt.imshow(generated_random_image[0, :, :, 0])"
   ]
  },
  {
   "attachments": {},
   "cell_type": "markdown",
   "metadata": {},
   "source": [
    "### Discriminator"
   ]
  },
  {
   "cell_type": "code",
   "execution_count": null,
   "metadata": {},
   "outputs": [],
   "source": [
    "def Discriminator():\n",
    "    discriminator = keras.Sequential()\n",
    "\n",
    "    discriminator.add(layers.Conv2D(128, (3, 3), strides=(2, 2), padding=\"same\", input_shape=[32, 32, 3]))\n",
    "    discriminator.add(layers.LeakyReLU(alpha=0.2))\n",
    "    discriminator.add(layers.Dropout(0.3))\n",
    "\n",
    "    discriminator.add(layers.Conv2D(128, (3, 3), strides=(2, 2), padding=\"same\"))\n",
    "    discriminator.add(layers.LeakyReLU(alpha=0.2))\n",
    "    discriminator.add(layers.Dropout(0.3))\n",
    "\n",
    "    discriminator.add(layers.Flatten())\n",
    "    discriminator.add(layers.Dense(1, activation=\"sigmoid\"))\n",
    "\n",
    "    return discriminator\n",
    "\n"
   ]
  },
  {
   "attachments": {},
   "cell_type": "markdown",
   "metadata": {},
   "source": [
    "### Connect Generator and Discriminator to GAN"
   ]
  },
  {
   "cell_type": "code",
   "execution_count": null,
   "metadata": {},
   "outputs": [],
   "source": [
    "def CifarGAN(generator, discriminator):\n",
    "    discriminator.trainable = False\n",
    "\n",
    "    gan = keras.Sequential()\n",
    "    gan.add(generator)\n",
    "    gan.add(discriminator)\n",
    "\n",
    "    gan.compile(loss=\"binary_crossentropy\", optimizer=optimizers.Adam(lr=0.0002, beta_1=0.5))\n",
    "\n",
    "    return gan\n",
    "\n"
   ]
  }
 ],
 "metadata": {
  "kernelspec": {
   "display_name": "Python 3",
   "language": "python",
   "name": "python3"
  },
  "language_info": {
   "codemirror_mode": {
    "name": "ipython",
    "version": 3
   },
   "file_extension": ".py",
   "mimetype": "text/x-python",
   "name": "python",
   "nbconvert_exporter": "python",
   "pygments_lexer": "ipython3",
   "version": "3.10.0"
  },
  "orig_nbformat": 4,
  "vscode": {
   "interpreter": {
    "hash": "cfcf893b30c834e77459660183659b067f3f21fdf2a85919e4ac9ef96b7b2952"
   }
  }
 },
 "nbformat": 4,
 "nbformat_minor": 2
}
